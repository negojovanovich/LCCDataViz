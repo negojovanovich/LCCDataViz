{
  "nbformat": 4,
  "nbformat_minor": 0,
  "metadata": {
    "colab": {
      "name": "Unit 3 L4 Data Viz.ipynb",
      "provenance": [],
      "collapsed_sections": [],
      "toc_visible": true,
      "authorship_tag": "ABX9TyPmYtxhmBzuc16jYt2of9RP",
      "include_colab_link": true
    },
    "kernelspec": {
      "name": "python3",
      "display_name": "Python 3"
    }
  },
  "cells": [
    {
      "cell_type": "markdown",
      "metadata": {
        "id": "view-in-github",
        "colab_type": "text"
      },
      "source": [
        "<a href=\"https://colab.research.google.com/github/negojovanovich/LCCDataViz/blob/master/Unit_3_L4_Data_Viz.ipynb\" target=\"_parent\"><img src=\"https://colab.research.google.com/assets/colab-badge.svg\" alt=\"Open In Colab\"/></a>"
      ]
    },
    {
      "cell_type": "code",
      "metadata": {
        "id": "Wf9Fvg6EHVdq",
        "colab_type": "code",
        "colab": {}
      },
      "source": [
        ""
      ],
      "execution_count": null,
      "outputs": []
    },
    {
      "cell_type": "code",
      "metadata": {
        "id": "CldNPBWGJYjC",
        "colab_type": "code",
        "colab": {}
      },
      "source": [
        "import seaborn as sns\n",
        "%matplotlib inline\n",
        "\n",
        "tips = sns.load_dataset('tips')\n",
        "#tips.describe()\n",
        "#sns.distplot(tips['tip'])\n",
        "#sns.distplot(tips['total_bill'] )\n",
        "\n",
        "#sns.jointplot(x = 'total_bill', y ='tip', data = tips)\n",
        "#sns.jointplot(x = 'total_bill', y ='tip', data = tips, kind = 'hex')\n",
        "#sns.pairplot(tips, hue = 'smoker')\n",
        "\n",
        "#.boxplot(x='day', y = 'total_bill', data = tips, hue='smoker')\n",
        "sns.barplot(x='sex', y = 'tip', data = tips)"
      ],
      "execution_count": null,
      "outputs": []
    },
    {
      "cell_type": "code",
      "metadata": {
        "id": "B2tV8RUA4liX",
        "colab_type": "code",
        "colab": {}
      },
      "source": [
        "import pandas as pd\n",
        "import matplotlib.pyplot as plt\n",
        "%matplotlib inline\n",
        "df = pd.read_csv('https://raw.githubusercontent.com/CunyLaguardiaDataAnalytics/datasets/master/311_Service_Requests_from_2019May.csv')\n",
        "df = df[['Borough','Agency']]\n",
        "\n"
      ],
      "execution_count": null,
      "outputs": []
    },
    {
      "cell_type": "code",
      "metadata": {
        "id": "V4kRMB2HdiZt",
        "colab_type": "code",
        "colab": {}
      },
      "source": [
        "import pandas as pd\n",
        "import matplotlib.pyplot as plot\n",
        "df = pd.read_csv('https://raw.githubusercontent.com/CunyLaguardiaDataAnalytics/datasets/master/311_Service_Requests_from_2019May.csv')\n",
        "print(df[df.Borough.isin(['Unspecified', 'QUEENS'])].groupby(['Borough', 'Status'])['Unique Key'].count().sort_values(ascending=True).plot(kind='bar'))"
      ],
      "execution_count": null,
      "outputs": []
    }
  ]
}